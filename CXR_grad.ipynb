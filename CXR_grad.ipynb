{
 "cells": [
  {
   "cell_type": "code",
   "execution_count": 1,
   "id": "93e7b886-320e-4e2c-8e29-70bd783ad7ba",
   "metadata": {},
   "outputs": [],
   "source": [
    "# | default_exp app"
   ]
  },
  {
   "cell_type": "code",
   "execution_count": 2,
   "id": "de076ae2-2e69-4c8e-9338-87852ce90933",
   "metadata": {},
   "outputs": [],
   "source": [
    "# |export\n",
    "from fastai.vision.all import *\n",
    "import gradio as gr"
   ]
  },
  {
   "cell_type": "code",
   "execution_count": 3,
   "id": "b74b97c8-7d39-480b-9527-f7c31f6e00a6",
   "metadata": {},
   "outputs": [],
   "source": [
    "# |export\n",
    "path = Path()\n",
    "learn_inf = load_learner(path/'export.pkl', cpu=True)\n",
    "learn = load_learner('export.pkl')"
   ]
  },
  {
   "cell_type": "code",
   "execution_count": null,
   "id": "86cf3c8b-7719-4229-b942-233e7f08b004",
   "metadata": {},
   "outputs": [],
   "source": []
  },
  {
   "cell_type": "code",
   "execution_count": 4,
   "id": "f6160ca7-4880-419f-951e-a075408d9497",
   "metadata": {},
   "outputs": [],
   "source": [
    "# |export\n",
    "labels = learn.dls.vocab\n",
    "def predict(img):\n",
    "    img = PILImage.create(img)\n",
    "    pred,pred_idx,probs = learn.predict(img)\n",
    "    return {labels[i]: float(probs[i]) for i in range(len(labels))}"
   ]
  },
  {
   "cell_type": "code",
   "execution_count": null,
   "id": "5506d8a5-c874-4569-9932-5a17c09188cf",
   "metadata": {},
   "outputs": [],
   "source": []
  },
  {
   "cell_type": "code",
   "execution_count": 5,
   "id": "f84cd126-d459-4732-951f-a2145997a3fc",
   "metadata": {},
   "outputs": [
    {
     "name": "stdout",
     "output_type": "stream",
     "text": [
      "Running on local URL:  http://127.0.0.1:7860\n",
      "\n",
      "To create a public link, set `share=True` in `launch()`.\n"
     ]
    },
    {
     "data": {
      "text/html": [
       "<div><iframe src=\"http://127.0.0.1:7860/\" width=\"100%\" height=\"500\" allow=\"autoplay; camera; microphone; clipboard-read; clipboard-write;\" frameborder=\"0\" allowfullscreen></iframe></div>"
      ],
      "text/plain": [
       "<IPython.core.display.HTML object>"
      ]
     },
     "metadata": {},
     "output_type": "display_data"
    },
    {
     "data": {
      "text/plain": []
     },
     "execution_count": 5,
     "metadata": {},
     "output_type": "execute_result"
    }
   ],
   "source": [
    "# |export\n",
    "# Tanishq's code, https://www.tanishq.ai/blog/posts/2021-11-16-gradio-huggingface.html, which doesn't work\n",
    "demo = gr.Interface(fn=predict, inputs=gr.Image(), outputs=gr.Label(num_top_classes=3))\n",
    "demo.launch()\n",
    "\n",
    "# def sepia(input_img):\n",
    "#     sepia_filter = np.array([\n",
    "#         [0.393, 0.769, 0.189], \n",
    "#         [0.349, 0.686, 0.168], \n",
    "#         [0.272, 0.534, 0.131]\n",
    "#     ])\n",
    "#     sepia_img = input_img.dot(sepia_filter.T)\n",
    "#     sepia_img /= sepia_img.max()\n",
    "#     return sepia_img\n",
    "\n",
    "# demo = gr.Interface(sepia, gr.Image(), \"image\")\n",
    "# demo.launch()"
   ]
  },
  {
   "cell_type": "code",
   "execution_count": null,
   "id": "a02acbcd-fedf-4f0b-85da-06f3d6610967",
   "metadata": {},
   "outputs": [],
   "source": []
  },
  {
   "cell_type": "code",
   "execution_count": null,
   "id": "e8b55925-7183-4484-8252-fed6c422a6e0",
   "metadata": {},
   "outputs": [],
   "source": []
  }
 ],
 "metadata": {
  "kernelspec": {
   "display_name": "Python 3 (ipykernel)",
   "language": "python",
   "name": "python3"
  },
  "language_info": {
   "codemirror_mode": {
    "name": "ipython",
    "version": 3
   },
   "file_extension": ".py",
   "mimetype": "text/x-python",
   "name": "python",
   "nbconvert_exporter": "python",
   "pygments_lexer": "ipython3",
   "version": "3.10.13"
  }
 },
 "nbformat": 4,
 "nbformat_minor": 5
}
