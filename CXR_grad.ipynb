{
 "cells": [
  {
   "cell_type": "code",
   "execution_count": 1,
   "id": "9d2b602d-0c02-46e6-9e56-848480248b57",
   "metadata": {},
   "outputs": [],
   "source": [
    "%%capture\n",
    "\n",
    "from fastai.vision.all import *\n",
    "from fastai.vision.widgets import *\n",
    "# import ipywidgets as widgets\n",
    "# from io import BytesIO\n",
    "# !jupyter serverextension enable --sys-prefix voila "
   ]
  },
  {
   "cell_type": "code",
   "execution_count": 2,
   "id": "652feab2-22c3-4ccd-8eec-5a68c08775d5",
   "metadata": {},
   "outputs": [],
   "source": [
    "path = Path()\n",
    "learn = load_learner(path/'export.pkl', cpu=True)\n",
    "# btn_upload = widgets.FileUpload()\n",
    "# out_pl = widgets.Output()\n",
    "# lbl_pred = widgets.Label()"
   ]
  },
  {
   "cell_type": "code",
   "execution_count": 3,
   "id": "bb402f43-8515-48dc-be89-3867dc96a2a9",
   "metadata": {},
   "outputs": [],
   "source": [
    "# def on_data_change(change):\n",
    "#     lbl_pred.value = ''\n",
    "#     # img = PILImage.create(btn_upload.data[-1])\n",
    "#     uploaded_file = btn_upload.value[-1]\n",
    "#     content = uploaded_file['content']\n",
    "#     img = PILImage.create(BytesIO(content))\n",
    "    \n",
    "#     out_pl.clear_output()\n",
    "#     with out_pl: display(img.to_thumb(128,128))\n",
    "#     pred,pred_idx,probs = learn_inf.predict(img)\n",
    "#     lbl_pred.value = f'Prediction: {pred}; Probability: {probs[pred_idx]:.04f}'"
   ]
  },
  {
   "cell_type": "code",
   "execution_count": 4,
   "id": "cb60903e-f82b-4cc8-b11a-4414f0c4b69e",
   "metadata": {},
   "outputs": [],
   "source": [
    "# btn_upload.observe(on_data_change, names=['value'])"
   ]
  },
  {
   "cell_type": "code",
   "execution_count": 5,
   "id": "9afdcac1-ed9c-45fb-9f73-1d24e57c312a",
   "metadata": {},
   "outputs": [],
   "source": [
    "# display(widgets.VBox([widgets.Label('Upload X-ray'), btn_upload, out_pl, lbl_pred]))\n"
   ]
  },
  {
   "cell_type": "code",
   "execution_count": 6,
   "id": "66851ddf-1e26-4264-8647-6df576b434fd",
   "metadata": {},
   "outputs": [],
   "source": [
    "labels = learn.dls.vocab\n",
    "def predict(img):\n",
    "    img = PILImage.create(img)\n",
    "    pred,pred_idx,probs = learn.predict(img)\n",
    "    return {labels[i]: float(probs[i]) for i in range(len(labels))}"
   ]
  },
  {
   "cell_type": "code",
   "execution_count": 7,
   "id": "55a59805-4372-4bde-9280-0b687c3ef303",
   "metadata": {},
   "outputs": [
    {
     "ename": "AttributeError",
     "evalue": "module 'gradio' has no attribute 'inputs'",
     "output_type": "error",
     "traceback": [
      "\u001b[0;31m---------------------------------------------------------------------------\u001b[0m",
      "\u001b[0;31mAttributeError\u001b[0m                            Traceback (most recent call last)",
      "Cell \u001b[0;32mIn[7], line 2\u001b[0m\n\u001b[1;32m      1\u001b[0m \u001b[38;5;28;01mimport\u001b[39;00m \u001b[38;5;21;01mgradio\u001b[39;00m \u001b[38;5;28;01mas\u001b[39;00m \u001b[38;5;21;01mgr\u001b[39;00m\n\u001b[0;32m----> 2\u001b[0m image \u001b[38;5;241m=\u001b[39m \u001b[43mgr\u001b[49m\u001b[38;5;241;43m.\u001b[39;49m\u001b[43minputs\u001b[49m\u001b[38;5;241m.\u001b[39mImage(shape\u001b[38;5;241m=\u001b[39m(\u001b[38;5;241m192\u001b[39m,\u001b[38;5;241m192\u001b[39m))\n",
      "\u001b[0;31mAttributeError\u001b[0m: module 'gradio' has no attribute 'inputs'"
     ]
    }
   ],
   "source": [
    "import gradio as gr\n",
    "image = gr.inputs.Image(shape=(192,192))\n"
   ]
  },
  {
   "cell_type": "code",
   "execution_count": null,
   "id": "8f278cc9-537e-4217-9f37-9f4640e5e3d7",
   "metadata": {},
   "outputs": [],
   "source": [
    "gr.Interface(fn=predict, inputs=gr.inputs.Image(shape=(512, 512)), outputs=gr.outputs.Label(num_top_classes=3)).launch(share=True)\n",
    "\n"
   ]
  },
  {
   "cell_type": "code",
   "execution_count": null,
   "id": "8af88eba-6de0-418d-9fac-d9f5d363902c",
   "metadata": {},
   "outputs": [],
   "source": [
    "import gradio as gr\n",
    "gr.__file__\n",
    "\n"
   ]
  },
  {
   "cell_type": "code",
   "execution_count": null,
   "id": "c7f6e171-ded6-432d-8c5e-d83a22852925",
   "metadata": {},
   "outputs": [],
   "source": [
    "from gradio import Image\n",
    "image = Image(shape=(192,192))\n",
    "\n"
   ]
  },
  {
   "cell_type": "code",
   "execution_count": null,
   "id": "880e707d-d08c-42da-852f-2f71dff135aa",
   "metadata": {},
   "outputs": [],
   "source": []
  }
 ],
 "metadata": {
  "kernelspec": {
   "display_name": "Python 3 (ipykernel)",
   "language": "python",
   "name": "python3"
  },
  "language_info": {
   "codemirror_mode": {
    "name": "ipython",
    "version": 3
   },
   "file_extension": ".py",
   "mimetype": "text/x-python",
   "name": "python",
   "nbconvert_exporter": "python",
   "pygments_lexer": "ipython3",
   "version": "3.10.13"
  }
 },
 "nbformat": 4,
 "nbformat_minor": 5
}
